{
 "cells": [
  {
   "cell_type": "code",
   "execution_count": null,
   "id": "86cc5bdd",
   "metadata": {},
   "outputs": [],
   "source": [
    "import logging\n",
    "import dspy \n",
    "import os\n",
    "import mlflow\n",
    "from dotenv import load_dotenv\n",
    "\n",
    "logger = logging.getLogger(__name__)\n",
    "logger.setLevel(logging.INFO)\n",
    "logging.getLogger(\"LiteLLM\").setLevel(logging.WARN)\n",
    "logging.getLogger(\"httpx\").setLevel(logging.WARN)\n",
    "logging.getLogger(\"httpx\").setLevel(logging.WARN)\n",
    "logging.getLogger(\"urllib3\").setLevel(logging.ERROR)\n",
    "logging.getLogger(\"dspy\").setLevel(logging.INFO)\n",
    "\n",
    "\n",
    "mlflow.set_tracking_uri(\"http://mlflow:8080/\")\n",
    "mlflow.set_experiment(\"deploy_dspy_program\")\n",
    "mlflow.dspy.autolog(\n",
    "    log_compiles=True,    # Track optimization process\n",
    "    log_evals=True,       # Track evaluation results\n",
    "    log_traces_from_compile=True  # Track program traces during optimization\n",
    ")\n",
    "\n",
    "load_dotenv()"
   ]
  },
  {
   "cell_type": "code",
   "execution_count": null,
   "id": "9928bb78",
   "metadata": {},
   "outputs": [],
   "source": [
    "LLM_URL=os.getenv('LLM_URL')\n",
    "API_KEY=os.getenv('API_KEY')\n",
    "LLM_MODEL=os.getenv('LLM_MODEL')\n",
    "dspy.enable_logging()\n",
    "lm = dspy.LM(LLM_MODEL,\n",
    "             api_base=LLM_URL,  # ensure this points to your port\n",
    "             api_key=API_KEY, model_type='chat')\n",
    "dspy.configure(lm=lm)\n",
    "dspy.settings.configure(track_usage=True)"
   ]
  },
  {
   "cell_type": "code",
   "execution_count": null,
   "id": "79c5f158",
   "metadata": {},
   "outputs": [],
   "source": [
    "math = dspy.ChainOfThought(\"question -> answer: float\")\n",
    "x=math(question=\"Two dice are tossed. What is the probability that the sum equals two?\")\n",
    "print(x)\n"
   ]
  },
  {
   "cell_type": "code",
   "execution_count": null,
   "id": "84362aff",
   "metadata": {},
   "outputs": [],
   "source": [
    "print(x.get_lm_usage())"
   ]
  },
  {
   "cell_type": "code",
   "execution_count": null,
   "id": "d11e7c37",
   "metadata": {},
   "outputs": [],
   "source": [
    "def evaluate_math(expression: str):\n",
    "    return dspy.PythonInterpreter({}).execute(expression)\n",
    "\n",
    "def search_wikipedia(query: str):\n",
    "    results = dspy.ColBERTv2(url='http://20.102.90.50:2017/wiki17_abstracts')(query, k=3)\n",
    "    return [x['text'] for x in results]\n",
    "\n",
    "react = dspy.ReAct(\"question -> answer: float\", tools=[evaluate_math, search_wikipedia])\n",
    "\n",
    "pred = react(question=\"What is 9362158 divided by the year of birth of David Gregory of Kinnairdy castle?\")\n",
    "print(pred.answer)\n",
    "dspy.inspect_history(n=50)"
   ]
  },
  {
   "cell_type": "code",
   "execution_count": null,
   "id": "3620720a",
   "metadata": {},
   "outputs": [],
   "source": [
    "class Outline(dspy.Signature):\n",
    "    \"\"\"Outline a thorough overview of a topic.\"\"\"\n",
    "\n",
    "    topic: str = dspy.InputField()\n",
    "    title: str = dspy.OutputField()\n",
    "    sections: list[str] = dspy.OutputField()\n",
    "    section_subheadings: dict[str, list[str]] = dspy.OutputField(desc=\"mapping from section headings to subheadings\")\n",
    "\n",
    "class DraftSection(dspy.Signature):\n",
    "    \"\"\"Draft a top-level section of an article.\"\"\"\n",
    "\n",
    "    topic: str = dspy.InputField()\n",
    "    section_heading: str = dspy.InputField()\n",
    "    section_subheadings: list[str] = dspy.InputField()\n",
    "    content: str = dspy.OutputField(desc=\"markdown-formatted section\")\n",
    "\n",
    "class DraftArticle(dspy.Module):\n",
    "    def __init__(self):\n",
    "        self.build_outline = dspy.ChainOfThought(Outline)\n",
    "        self.draft_section = dspy.ChainOfThought(DraftSection)\n",
    "\n",
    "    def forward(self, topic):\n",
    "        outline = self.build_outline(topic=topic)\n",
    "        sections = []\n",
    "        for heading, subheadings in outline.section_subheadings.items():\n",
    "            section, subheadings = f\"## {heading}\", [f\"### {subheading}\" for subheading in subheadings]\n",
    "            section = self.draft_section(topic=outline.title, section_heading=section, section_subheadings=subheadings)\n",
    "            sections.append(section.content)\n",
    "        return dspy.Prediction(title=outline.title, sections=sections)\n",
    "\n",
    "draft_article = DraftArticle()\n",
    "article = draft_article(topic=\"World War 2\")\n",
    "print(article.get_lm_usage())"
   ]
  },
  {
   "cell_type": "code",
   "execution_count": null,
   "id": "63658023",
   "metadata": {},
   "outputs": [],
   "source": [
    "dspy.inspect_history(n=500)"
   ]
  },
  {
   "cell_type": "code",
   "execution_count": null,
   "id": "494ff232",
   "metadata": {},
   "outputs": [],
   "source": [
    "print(article)"
   ]
  },
  {
   "cell_type": "code",
   "execution_count": null,
   "id": "5b411c9b",
   "metadata": {},
   "outputs": [],
   "source": [
    "class ExtractInfo(dspy.Signature):\n",
    "    \"\"\"Extract structured information from text.\"\"\"\n",
    "\n",
    "    text: str = dspy.InputField()\n",
    "    title: str = dspy.OutputField()\n",
    "    headings: list[str] = dspy.OutputField()\n",
    "    entities: list[dict[str, str]] = dspy.OutputField(desc=\"a list of entities and their metadata\")\n",
    "\n",
    "module = dspy.Predict(ExtractInfo)\n",
    "\n",
    "text = \"Apple Inc. announced its latest iPhone 14 today.\" \\\n",
    "    \"The CEO, Tim Cook, highlighted its new features in a press release.\"\n",
    "response = module(text=text)\n",
    "\n",
    "print(response.title)\n",
    "print(response.headings)\n",
    "print(response.entities)\n",
    "dspy.inspect_history(n=80)"
   ]
  },
  {
   "cell_type": "code",
   "execution_count": null,
   "id": "da42cdf0",
   "metadata": {},
   "outputs": [],
   "source": [
    "def search_wikipedia(query: str) -> list[str]:\n",
    "    results = dspy.ColBERTv2(url='http://20.102.90.50:2017/wiki17_abstracts')(query, k=3)\n",
    "    return [x['text'] for x in results]\n",
    "\n",
    "rag = dspy.ChainOfThought('context, question -> response')\n",
    "\n",
    "question = \"What's the name of the castle that David Gregory inherited?\"\n",
    "rag(context=search_wikipedia(question), question=question)"
   ]
  },
  {
   "cell_type": "code",
   "execution_count": null,
   "id": "bdbe0bc9",
   "metadata": {},
   "outputs": [],
   "source": [
    "dspy.inspect_history(n=80)"
   ]
  },
  {
   "cell_type": "code",
   "execution_count": null,
   "id": "a7a35664",
   "metadata": {},
   "outputs": [],
   "source": [
    "class CheckCitationFaithfulness(dspy.Signature):\n",
    "    \"\"\"Verify that the text is based on the provided context.\"\"\"\n",
    "\n",
    "    context: str = dspy.InputField(desc=\"facts here are assumed to be true\")\n",
    "    text: str = dspy.InputField()\n",
    "    faithfulness: bool = dspy.OutputField()\n",
    "    evidence: dict[str, list[str]] = dspy.OutputField(desc=\"Supporting evidence for claims\")\n",
    "\n",
    "context = \"The 21-year-old made seven appearances for the Hammers and netted his only goal for them in a Europa League qualification round match against Andorran side FC Lustrains last season. Lee had two loan spells in League One last term, with Blackpool and then Colchester United. He scored twice for the U's but was unable to save them from relegation. The length of Lee's contract with the promoted Tykes has not been revealed. Find all the latest football transfers on our dedicated page.\"\n",
    "\n",
    "text = \"Lee scored 3 goals for Colchester United.\"\n",
    "\n",
    "faithfulness = dspy.ChainOfThought(CheckCitationFaithfulness)\n",
    "faithfulness(context=context, text=text)\n",
    "dspy.inspect_history(n=80)"
   ]
  },
  {
   "cell_type": "code",
   "execution_count": null,
   "id": "fce7ee81",
   "metadata": {},
   "outputs": [],
   "source": [
    "question = \"What's something great about the ColBERT retrieval model?\"\n",
    "\n",
    "# 1) Declare with a signature, and pass some config.\n",
    "classify = dspy.ChainOfThought('question -> answer', n=5)\n",
    "\n",
    "# 2) Call with input argument.\n",
    "response = classify(question=question)\n",
    "\n",
    "# 3) Access the outputs.\n",
    "response.completions.answer\n",
    "\n",
    "dspy.inspect_history(n=80)"
   ]
  },
  {
   "cell_type": "code",
   "execution_count": null,
   "id": "89f27d6a",
   "metadata": {},
   "outputs": [],
   "source": [
    "import dspy\n",
    "from dspy.datasets import HotPotQA\n",
    "\n",
    "# logging.basicConfig(format='%(levelname)s:%(message)s', level=logging.INFO)\n",
    "# logging.getLogger(\"dspy\").setLevel(logging.DEBUG)\n",
    "\n",
    "# root = logging.getLogger()\n",
    "# root.setLevel(logging.DEBUG)\n",
    "# handler = logging.StreamHandler(sys.stdout)\n",
    "# handler.setLevel(logging.DEBUG)\n",
    "# formatter = logging.Formatter('%(asctime)s - %(name)s - %(levelname)s - %(message)s')\n",
    "# handler.setFormatter(formatter)\n",
    "# root.addHandler(handler)\n",
    "\n",
    "mlflow.set_experiment(\"optimized_react\")\n",
    "\n",
    "def search(query: str) -> list[str]:\n",
    "    \"\"\"Retrieves abstracts from Wikipedia.\"\"\"\n",
    "    results = dspy.ColBERTv2(url='http://20.102.90.50:2017/wiki17_abstracts')(query, k=3)\n",
    "    return [x['text'] for x in results]\n",
    "\n",
    "trainset = [x.with_inputs('question') for x in HotPotQA(train_seed=2024, train_size=50).train]\n",
    "react = dspy.ReAct(\"question -> answer\", tools=[search])\n",
    "\n",
    "tp = dspy.MIPROv2(metric=dspy.evaluate.answer_exact_match, auto=\"light\", num_threads=24)\n",
    "optimized_react = tp.compile(react, trainset=trainset,requires_permission_to_run=False)\n",
    "\n",
    "optimized_react.save(path=\"/home/noelo/dev/dspy-poc/optimized_react.json\")"
   ]
  },
  {
   "cell_type": "code",
   "execution_count": null,
   "id": "f2bdaa39",
   "metadata": {},
   "outputs": [],
   "source": [
    "print(optimized_react)"
   ]
  },
  {
   "cell_type": "code",
   "execution_count": null,
   "id": "585869ae",
   "metadata": {},
   "outputs": [],
   "source": [
    "print(react)"
   ]
  }
 ],
 "metadata": {
  "kernelspec": {
   "display_name": "dspy",
   "language": "python",
   "name": "python3"
  },
  "language_info": {
   "codemirror_mode": {
    "name": "ipython",
    "version": 3
   },
   "file_extension": ".py",
   "mimetype": "text/x-python",
   "name": "python",
   "nbconvert_exporter": "python",
   "pygments_lexer": "ipython3",
   "version": "3.11.11"
  }
 },
 "nbformat": 4,
 "nbformat_minor": 5
}
